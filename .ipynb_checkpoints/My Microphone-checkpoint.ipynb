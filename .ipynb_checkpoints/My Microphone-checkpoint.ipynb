{
 "cells": [
  {
   "cell_type": "code",
   "execution_count": 2,
   "id": "architectural-timer",
   "metadata": {},
   "outputs": [],
   "source": [
    "import pyaudio\n",
    "import wave\n",
    "p = pyaudio.PyAudio()\n",
    "\n",
    "CHUNK = 1024\n",
    "CHANNELS = 1\n",
    "FRAME_RATE = 96000\n",
    "RECORD_SECONDS = 20\n",
    "AUDIO_FORMAT = pyaudio.paInt16\n",
    "SAMPLE_SIZE = 2\n",
    "stream = p.open(format=AUDIO_FORMAT,\n",
    "                channels=CHANNELS,\n",
    "                rate=FRAME_RATE,\n",
    "                input=True,\n",
    "                input_device_index=2,\n",
    "                frames_per_buffer=CHUNK)\n",
    "print('Start Recording...')\n",
    "\n",
    "frames = []\n",
    "seconds = 5\n",
    "for i in range(0,int(FRAME_RATE/CHUNK*seconds)):\n",
    "    data = stream.read(CHUNK)\n",
    "    frames.append(data)\n",
    "    \n",
    "print('Recording Stopped')"
   ]
  },
  {
   "cell_type": "code",
   "execution_count": null,
   "id": "amino-weekly",
   "metadata": {},
   "outputs": [],
   "source": []
  }
 ],
 "metadata": {
  "kernelspec": {
   "display_name": "Python 3",
   "language": "python",
   "name": "python3"
  },
  "language_info": {
   "codemirror_mode": {
    "name": "ipython",
    "version": 3
   },
   "file_extension": ".py",
   "mimetype": "text/x-python",
   "name": "python",
   "nbconvert_exporter": "python",
   "pygments_lexer": "ipython3",
   "version": "3.7.9"
  }
 },
 "nbformat": 4,
 "nbformat_minor": 5
}
