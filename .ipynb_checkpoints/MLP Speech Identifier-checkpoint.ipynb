{
 "cells": [
  {
   "cell_type": "code",
   "execution_count": 1,
   "metadata": {},
   "outputs": [],
   "source": [
    "#Importing the necessary libraries\n",
    "import librosa \n",
    "import soundfile \n",
    "import os, glob, pickle\n",
    "import numpy as np\n",
    "from sklearn.model_selection import train_test_split\n",
    "from sklearn.neural_network import MLPClassifier\n",
    "from sklearn.metrics import accuracy_score\n",
    "import pandas as pd"
   ]
  },
  {
   "cell_type": "code",
   "execution_count": 6,
   "metadata": {},
   "outputs": [],
   "source": [
    "#DataFlair - Extract features (mfcc, chroma, mel) from a sound file\n",
    "def extract_feature(file_name, mfcc, chroma, mel):\n",
    "    with soundfile.SoundFile(file_name) as sound_file:\n",
    "        X = sound_file.read(dtype=\"float32\")\n",
    "        sample_rate=sound_file.samplerate\n",
    "        if chroma:\n",
    "            stft=np.abs(librosa.stft(X))\n",
    "            result=np.array([])\n",
    "        if mfcc:\n",
    "            mfccs=np.mean(librosa.feature.mfcc(y=X, sr=sample_rate, n_mfcc=40).T, axis=0)\n",
    "            result=np.hstack((result, mfccs))\n",
    "#         if chroma:\n",
    "#             chroma=np.mean(librosa.feature.chroma_stft(S=stft, sr=sample_rate).T,axis=0)\n",
    "#             result=np.hstack((result, chroma))\n",
    "        if mel:\n",
    "            mel=np.mean(librosa.feature.melspectrogram(X, sr=sample_rate).T,axis=0)\n",
    "            result=np.hstack((result, mel))\n",
    "    return result"
   ]
  },
  {
   "cell_type": "code",
   "execution_count": 7,
   "metadata": {},
   "outputs": [],
   "source": [
    "f=extract_feature('./Real Time Testing/Check.wav', mfcc=True, chroma=True, mel=True)"
   ]
  },
  {
   "cell_type": "code",
   "execution_count": 8,
   "metadata": {},
   "outputs": [],
   "source": [
    "#DataFlair - Emotions in the RAVDESS dataset\n",
    "people={\n",
    "  '1':'Rahil',\n",
    "  '2':'Shikha',\n",
    "  '3':'Srihari',\n",
    "  '4':'Yash',\n",
    "}"
   ]
  },
  {
   "cell_type": "code",
   "execution_count": 9,
   "metadata": {},
   "outputs": [],
   "source": [
    "#DataFlair - Load the data and extract features for each sound file\n",
    "def load_data(test_size=0.2):\n",
    "    x,y=[],[]\n",
    "    for file in glob.glob(\"/Users/yashdange/Desktop/BE Project/Audio/Train 2 Fixed/*.wav\"):\n",
    "        file_name=os.path.basename(file)\n",
    "        person=people[file_name.split(\"-\")[1]]\n",
    "        feature=extract_feature(file, mfcc=True, chroma=True, mel=True)\n",
    "        x.append(feature)\n",
    "        y.append(person)\n",
    "    return x,y"
   ]
  },
  {
   "cell_type": "code",
   "execution_count": 10,
   "metadata": {
    "scrolled": false
   },
   "outputs": [],
   "source": [
    "x,y=[],[]\n",
    "for file in glob.iglob(r\"/Users/yashdange/Desktop/BE Project/Audio/Train 2 Fixed/*.wav\"):\n",
    "    file_name=os.path.basename(file)\n",
    "    person=people[file_name.split(\"-\")[1]]\n",
    "    feature=extract_feature(file, mfcc=True, chroma=True, mel=True)\n",
    "    x.append(feature)\n",
    "    y.append(person)"
   ]
  },
  {
   "cell_type": "code",
   "execution_count": 11,
   "metadata": {},
   "outputs": [],
   "source": [
    "#DataFlair - Initialize the Multi Layer Perceptron Classifier\n",
    "model=MLPClassifier(alpha=0.01, batch_size=256, epsilon=1e-08, hidden_layer_sizes=(300,), learning_rate='adaptive', max_iter=500)"
   ]
  },
  {
   "cell_type": "code",
   "execution_count": 12,
   "metadata": {},
   "outputs": [
    {
     "data": {
      "text/plain": [
       "60"
      ]
     },
     "execution_count": 12,
     "metadata": {},
     "output_type": "execute_result"
    }
   ],
   "source": [
    "len(y)"
   ]
  },
  {
   "cell_type": "code",
   "execution_count": 13,
   "metadata": {},
   "outputs": [
    {
     "name": "stderr",
     "output_type": "stream",
     "text": [
      "/opt/anaconda3/envs/IBM_Deep_Learning/lib/python3.7/site-packages/sklearn/neural_network/_multilayer_perceptron.py:542: UserWarning: Got `batch_size` less than 1 or larger than sample size. It is going to be clipped\n",
      "  warnings.warn(\"Got `batch_size` less than 1 or larger than \"\n"
     ]
    },
    {
     "data": {
      "text/plain": [
       "MLPClassifier(alpha=0.01, batch_size=256, hidden_layer_sizes=(300,),\n",
       "              learning_rate='adaptive', max_iter=500)"
      ]
     },
     "execution_count": 13,
     "metadata": {},
     "output_type": "execute_result"
    }
   ],
   "source": [
    "#DataFlair - Train the model\n",
    "model.fit(x,y)"
   ]
  },
  {
   "cell_type": "code",
   "execution_count": 21,
   "metadata": {},
   "outputs": [
    {
     "name": "stdout",
     "output_type": "stream",
     "text": [
      "----------------------record device list---------------------\n",
      "Input Device id  0  -  MacBook Pro Microphone\n",
      "Input Device id  2  -  Reincubate\n",
      "Input Device id  3  -  Microsoft Teams Audio\n",
      "Input Device id  4  -  EpocCam Microphone\n",
      "Input Device id  5  -  ZoomAudioDevice\n",
      "-------------------------------------------------------------\n",
      "0\n",
      "recording via index 0\n",
      "recording started\n",
      "recording stopped\n",
      "The Speaker is:  ['Srihari']\n"
     ]
    }
   ],
   "source": [
    "import pyaudio\n",
    "import wave\n",
    "\n",
    "FORMAT = pyaudio.paInt16\n",
    "CHANNELS = 1\n",
    "RATE = 44100\n",
    "CHUNK = 512\n",
    "RECORD_SECONDS = 5\n",
    "WAVE_OUTPUT_FILENAME = \"./Real Time Testing/Check.wav\"\n",
    "device_index = 2\n",
    "audio = pyaudio.PyAudio()\n",
    "\n",
    "print(\"----------------------record device list---------------------\")\n",
    "info = audio.get_host_api_info_by_index(0)\n",
    "numdevices = info.get('deviceCount')\n",
    "for i in range(0, numdevices):\n",
    "        if (audio.get_device_info_by_host_api_device_index(0, i).get('maxInputChannels')) > 0:\n",
    "            print(\"Input Device id \", i, \" - \", audio.get_device_info_by_host_api_device_index(0, i).get('name'))\n",
    "\n",
    "print(\"-------------------------------------------------------------\")\n",
    "\n",
    "index = int(input())\n",
    "print(\"recording via index \"+str(index))\n",
    "\n",
    "stream = audio.open(format=FORMAT, channels=CHANNELS,\n",
    "                rate=RATE, input=True,input_device_index = index,\n",
    "                frames_per_buffer=CHUNK)\n",
    "print (\"recording started\")\n",
    "Recordframes = []\n",
    " \n",
    "for i in range(0, int(RATE / CHUNK * RECORD_SECONDS)):\n",
    "    data = stream.read(CHUNK)\n",
    "    Recordframes.append(data)\n",
    "print (\"recording stopped\")\n",
    " \n",
    "stream.stop_stream()\n",
    "stream.close()\n",
    "audio.terminate()\n",
    " \n",
    "waveFile = wave.open(WAVE_OUTPUT_FILENAME, 'wb')\n",
    "waveFile.setnchannels(CHANNELS)\n",
    "waveFile.setsampwidth(audio.get_sample_size(FORMAT))\n",
    "waveFile.setframerate(RATE)\n",
    "waveFile.writeframes(b''.join(Recordframes))\n",
    "waveFile.close()\n",
    "\n",
    "## TEST\n",
    "\n",
    "test_file = './Real Time Testing/Check.wav'\n",
    "sample = extract_feature(test_file, mfcc=True, chroma=True, mel=True)\n",
    "sample=sample.reshape(1,-1)\n",
    "\n",
    "y_pred=model.predict(sample.reshape(1,-1))\n",
    "y_pred\n",
    "\n",
    "print('The Speaker is:',y_pred)"
   ]
  },
  {
   "cell_type": "code",
   "execution_count": 16,
   "metadata": {},
   "outputs": [],
   "source": [
    "test_file = './Real Time Testing/Check.wav'\n",
    "sample = extract_feature(test_file, mfcc=True, chroma=True, mel=True)\n",
    "sample=sample.reshape(1,-1)"
   ]
  },
  {
   "cell_type": "code",
   "execution_count": 20,
   "metadata": {},
   "outputs": [
    {
     "data": {
      "text/plain": [
       "array(['Rahil'], dtype='<U7')"
      ]
     },
     "execution_count": 20,
     "metadata": {},
     "output_type": "execute_result"
    }
   ],
   "source": [
    "#DataFlair - Predict for the test set\n",
    "y_pred=model.predict(sample.reshape(1,-1))\n",
    "y_pred"
   ]
  },
  {
   "cell_type": "code",
   "execution_count": 16,
   "metadata": {},
   "outputs": [
    {
     "name": "stderr",
     "output_type": "stream",
     "text": [
      "/opt/anaconda3/envs/IBM_Deep_Learning/lib/python3.7/site-packages/sklearn/model_selection/_split.py:668: UserWarning: The least populated class in y has only 3 members, which is less than n_splits=5.\n",
      "  % (min_groups, self.n_splits)), UserWarning)\n"
     ]
    },
    {
     "data": {
      "text/plain": [
       "{'mean_fit_time': array([0.00122628, 0.00066848, 0.00051751, 0.0005147 , 0.0004981 ,\n",
       "        0.0004602 ]),\n",
       " 'std_fit_time': array([1.13591224e-03, 1.48498100e-04, 5.93772365e-06, 4.73817323e-05,\n",
       "        4.07006143e-05, 2.91559311e-05]),\n",
       " 'mean_score_time': array([0.00037613, 0.00035901, 0.00029149, 0.0002748 , 0.00029345,\n",
       "        0.00026522]),\n",
       " 'std_score_time': array([4.74604146e-05, 7.78518113e-05, 4.98197856e-06, 1.35178078e-05,\n",
       "        6.15741357e-05, 2.47315351e-05]),\n",
       " 'param_C': masked_array(data=[5, 5, 10, 10, 15, 15],\n",
       "              mask=[False, False, False, False, False, False],\n",
       "        fill_value='?',\n",
       "             dtype=object),\n",
       " 'param_kernel': masked_array(data=['rbf', 'linear', 'rbf', 'linear', 'rbf', 'linear'],\n",
       "              mask=[False, False, False, False, False, False],\n",
       "        fill_value='?',\n",
       "             dtype=object),\n",
       " 'params': [{'C': 5, 'kernel': 'rbf'},\n",
       "  {'C': 5, 'kernel': 'linear'},\n",
       "  {'C': 10, 'kernel': 'rbf'},\n",
       "  {'C': 10, 'kernel': 'linear'},\n",
       "  {'C': 15, 'kernel': 'rbf'},\n",
       "  {'C': 15, 'kernel': 'linear'}],\n",
       " 'split0_test_score': array([0.33333333, 1.        , 0.33333333, 1.        , 0.33333333,\n",
       "        1.        ]),\n",
       " 'split1_test_score': array([0.33333333, 0.66666667, 0.33333333, 0.66666667, 0.33333333,\n",
       "        0.66666667]),\n",
       " 'split2_test_score': array([0.33333333, 1.        , 0.33333333, 1.        , 0.33333333,\n",
       "        1.        ]),\n",
       " 'split3_test_score': array([0.33333333, 1.        , 0.33333333, 1.        , 0.33333333,\n",
       "        1.        ]),\n",
       " 'split4_test_score': array([0.33333333, 1.        , 0.33333333, 1.        , 0.33333333,\n",
       "        1.        ]),\n",
       " 'mean_test_score': array([0.33333333, 0.93333333, 0.33333333, 0.93333333, 0.33333333,\n",
       "        0.93333333]),\n",
       " 'std_test_score': array([0.        , 0.13333333, 0.        , 0.13333333, 0.        ,\n",
       "        0.13333333]),\n",
       " 'rank_test_score': array([4, 1, 4, 1, 4, 1], dtype=int32)}"
      ]
     },
     "execution_count": 16,
     "metadata": {},
     "output_type": "execute_result"
    }
   ],
   "source": [
    "from sklearn.svm import SVC\n",
    "from sklearn.model_selection import GridSearchCV\n",
    "clf=GridSearchCV(SVC(gamma='auto'),{\n",
    "    'C': [5,10,15],\n",
    "    'kernel':['rbf','linear']\n",
    "},cv=5,return_train_score=False)\n",
    "clf.fit(x_train,y_train)\n",
    "clf.cv_results_"
   ]
  },
  {
   "cell_type": "code",
   "execution_count": 17,
   "metadata": {},
   "outputs": [
    {
     "data": {
      "text/html": [
       "<div>\n",
       "<style scoped>\n",
       "    .dataframe tbody tr th:only-of-type {\n",
       "        vertical-align: middle;\n",
       "    }\n",
       "\n",
       "    .dataframe tbody tr th {\n",
       "        vertical-align: top;\n",
       "    }\n",
       "\n",
       "    .dataframe thead th {\n",
       "        text-align: right;\n",
       "    }\n",
       "</style>\n",
       "<table border=\"1\" class=\"dataframe\">\n",
       "  <thead>\n",
       "    <tr style=\"text-align: right;\">\n",
       "      <th></th>\n",
       "      <th>mean_fit_time</th>\n",
       "      <th>std_fit_time</th>\n",
       "      <th>mean_score_time</th>\n",
       "      <th>std_score_time</th>\n",
       "      <th>param_C</th>\n",
       "      <th>param_kernel</th>\n",
       "      <th>params</th>\n",
       "      <th>split0_test_score</th>\n",
       "      <th>split1_test_score</th>\n",
       "      <th>split2_test_score</th>\n",
       "      <th>split3_test_score</th>\n",
       "      <th>split4_test_score</th>\n",
       "      <th>mean_test_score</th>\n",
       "      <th>std_test_score</th>\n",
       "      <th>rank_test_score</th>\n",
       "    </tr>\n",
       "  </thead>\n",
       "  <tbody>\n",
       "    <tr>\n",
       "      <th>0</th>\n",
       "      <td>0.001226</td>\n",
       "      <td>0.001136</td>\n",
       "      <td>0.000376</td>\n",
       "      <td>0.000047</td>\n",
       "      <td>5</td>\n",
       "      <td>rbf</td>\n",
       "      <td>{'C': 5, 'kernel': 'rbf'}</td>\n",
       "      <td>0.333333</td>\n",
       "      <td>0.333333</td>\n",
       "      <td>0.333333</td>\n",
       "      <td>0.333333</td>\n",
       "      <td>0.333333</td>\n",
       "      <td>0.333333</td>\n",
       "      <td>0.000000</td>\n",
       "      <td>4</td>\n",
       "    </tr>\n",
       "    <tr>\n",
       "      <th>1</th>\n",
       "      <td>0.000668</td>\n",
       "      <td>0.000148</td>\n",
       "      <td>0.000359</td>\n",
       "      <td>0.000078</td>\n",
       "      <td>5</td>\n",
       "      <td>linear</td>\n",
       "      <td>{'C': 5, 'kernel': 'linear'}</td>\n",
       "      <td>1.000000</td>\n",
       "      <td>0.666667</td>\n",
       "      <td>1.000000</td>\n",
       "      <td>1.000000</td>\n",
       "      <td>1.000000</td>\n",
       "      <td>0.933333</td>\n",
       "      <td>0.133333</td>\n",
       "      <td>1</td>\n",
       "    </tr>\n",
       "    <tr>\n",
       "      <th>2</th>\n",
       "      <td>0.000518</td>\n",
       "      <td>0.000006</td>\n",
       "      <td>0.000291</td>\n",
       "      <td>0.000005</td>\n",
       "      <td>10</td>\n",
       "      <td>rbf</td>\n",
       "      <td>{'C': 10, 'kernel': 'rbf'}</td>\n",
       "      <td>0.333333</td>\n",
       "      <td>0.333333</td>\n",
       "      <td>0.333333</td>\n",
       "      <td>0.333333</td>\n",
       "      <td>0.333333</td>\n",
       "      <td>0.333333</td>\n",
       "      <td>0.000000</td>\n",
       "      <td>4</td>\n",
       "    </tr>\n",
       "    <tr>\n",
       "      <th>3</th>\n",
       "      <td>0.000515</td>\n",
       "      <td>0.000047</td>\n",
       "      <td>0.000275</td>\n",
       "      <td>0.000014</td>\n",
       "      <td>10</td>\n",
       "      <td>linear</td>\n",
       "      <td>{'C': 10, 'kernel': 'linear'}</td>\n",
       "      <td>1.000000</td>\n",
       "      <td>0.666667</td>\n",
       "      <td>1.000000</td>\n",
       "      <td>1.000000</td>\n",
       "      <td>1.000000</td>\n",
       "      <td>0.933333</td>\n",
       "      <td>0.133333</td>\n",
       "      <td>1</td>\n",
       "    </tr>\n",
       "    <tr>\n",
       "      <th>4</th>\n",
       "      <td>0.000498</td>\n",
       "      <td>0.000041</td>\n",
       "      <td>0.000293</td>\n",
       "      <td>0.000062</td>\n",
       "      <td>15</td>\n",
       "      <td>rbf</td>\n",
       "      <td>{'C': 15, 'kernel': 'rbf'}</td>\n",
       "      <td>0.333333</td>\n",
       "      <td>0.333333</td>\n",
       "      <td>0.333333</td>\n",
       "      <td>0.333333</td>\n",
       "      <td>0.333333</td>\n",
       "      <td>0.333333</td>\n",
       "      <td>0.000000</td>\n",
       "      <td>4</td>\n",
       "    </tr>\n",
       "    <tr>\n",
       "      <th>5</th>\n",
       "      <td>0.000460</td>\n",
       "      <td>0.000029</td>\n",
       "      <td>0.000265</td>\n",
       "      <td>0.000025</td>\n",
       "      <td>15</td>\n",
       "      <td>linear</td>\n",
       "      <td>{'C': 15, 'kernel': 'linear'}</td>\n",
       "      <td>1.000000</td>\n",
       "      <td>0.666667</td>\n",
       "      <td>1.000000</td>\n",
       "      <td>1.000000</td>\n",
       "      <td>1.000000</td>\n",
       "      <td>0.933333</td>\n",
       "      <td>0.133333</td>\n",
       "      <td>1</td>\n",
       "    </tr>\n",
       "  </tbody>\n",
       "</table>\n",
       "</div>"
      ],
      "text/plain": [
       "   mean_fit_time  std_fit_time  mean_score_time  std_score_time param_C  \\\n",
       "0       0.001226      0.001136         0.000376        0.000047       5   \n",
       "1       0.000668      0.000148         0.000359        0.000078       5   \n",
       "2       0.000518      0.000006         0.000291        0.000005      10   \n",
       "3       0.000515      0.000047         0.000275        0.000014      10   \n",
       "4       0.000498      0.000041         0.000293        0.000062      15   \n",
       "5       0.000460      0.000029         0.000265        0.000025      15   \n",
       "\n",
       "  param_kernel                         params  split0_test_score  \\\n",
       "0          rbf      {'C': 5, 'kernel': 'rbf'}           0.333333   \n",
       "1       linear   {'C': 5, 'kernel': 'linear'}           1.000000   \n",
       "2          rbf     {'C': 10, 'kernel': 'rbf'}           0.333333   \n",
       "3       linear  {'C': 10, 'kernel': 'linear'}           1.000000   \n",
       "4          rbf     {'C': 15, 'kernel': 'rbf'}           0.333333   \n",
       "5       linear  {'C': 15, 'kernel': 'linear'}           1.000000   \n",
       "\n",
       "   split1_test_score  split2_test_score  split3_test_score  split4_test_score  \\\n",
       "0           0.333333           0.333333           0.333333           0.333333   \n",
       "1           0.666667           1.000000           1.000000           1.000000   \n",
       "2           0.333333           0.333333           0.333333           0.333333   \n",
       "3           0.666667           1.000000           1.000000           1.000000   \n",
       "4           0.333333           0.333333           0.333333           0.333333   \n",
       "5           0.666667           1.000000           1.000000           1.000000   \n",
       "\n",
       "   mean_test_score  std_test_score  rank_test_score  \n",
       "0         0.333333        0.000000                4  \n",
       "1         0.933333        0.133333                1  \n",
       "2         0.333333        0.000000                4  \n",
       "3         0.933333        0.133333                1  \n",
       "4         0.333333        0.000000                4  \n",
       "5         0.933333        0.133333                1  "
      ]
     },
     "execution_count": 17,
     "metadata": {},
     "output_type": "execute_result"
    }
   ],
   "source": [
    "df=pd.DataFrame(clf.cv_results_)\n",
    "df"
   ]
  },
  {
   "cell_type": "code",
   "execution_count": 18,
   "metadata": {},
   "outputs": [
    {
     "data": {
      "text/html": [
       "<div>\n",
       "<style scoped>\n",
       "    .dataframe tbody tr th:only-of-type {\n",
       "        vertical-align: middle;\n",
       "    }\n",
       "\n",
       "    .dataframe tbody tr th {\n",
       "        vertical-align: top;\n",
       "    }\n",
       "\n",
       "    .dataframe thead th {\n",
       "        text-align: right;\n",
       "    }\n",
       "</style>\n",
       "<table border=\"1\" class=\"dataframe\">\n",
       "  <thead>\n",
       "    <tr style=\"text-align: right;\">\n",
       "      <th></th>\n",
       "      <th>param_C</th>\n",
       "      <th>param_kernel</th>\n",
       "      <th>mean_test_score</th>\n",
       "      <th>rank_test_score</th>\n",
       "    </tr>\n",
       "  </thead>\n",
       "  <tbody>\n",
       "    <tr>\n",
       "      <th>0</th>\n",
       "      <td>5</td>\n",
       "      <td>rbf</td>\n",
       "      <td>0.333333</td>\n",
       "      <td>4</td>\n",
       "    </tr>\n",
       "    <tr>\n",
       "      <th>1</th>\n",
       "      <td>5</td>\n",
       "      <td>linear</td>\n",
       "      <td>0.933333</td>\n",
       "      <td>1</td>\n",
       "    </tr>\n",
       "    <tr>\n",
       "      <th>2</th>\n",
       "      <td>10</td>\n",
       "      <td>rbf</td>\n",
       "      <td>0.333333</td>\n",
       "      <td>4</td>\n",
       "    </tr>\n",
       "    <tr>\n",
       "      <th>3</th>\n",
       "      <td>10</td>\n",
       "      <td>linear</td>\n",
       "      <td>0.933333</td>\n",
       "      <td>1</td>\n",
       "    </tr>\n",
       "    <tr>\n",
       "      <th>4</th>\n",
       "      <td>15</td>\n",
       "      <td>rbf</td>\n",
       "      <td>0.333333</td>\n",
       "      <td>4</td>\n",
       "    </tr>\n",
       "    <tr>\n",
       "      <th>5</th>\n",
       "      <td>15</td>\n",
       "      <td>linear</td>\n",
       "      <td>0.933333</td>\n",
       "      <td>1</td>\n",
       "    </tr>\n",
       "  </tbody>\n",
       "</table>\n",
       "</div>"
      ],
      "text/plain": [
       "  param_C param_kernel  mean_test_score  rank_test_score\n",
       "0       5          rbf         0.333333                4\n",
       "1       5       linear         0.933333                1\n",
       "2      10          rbf         0.333333                4\n",
       "3      10       linear         0.933333                1\n",
       "4      15          rbf         0.333333                4\n",
       "5      15       linear         0.933333                1"
      ]
     },
     "execution_count": 18,
     "metadata": {},
     "output_type": "execute_result"
    }
   ],
   "source": [
    "df[['param_C','param_kernel','mean_test_score','rank_test_score']]"
   ]
  },
  {
   "cell_type": "code",
   "execution_count": 19,
   "metadata": {},
   "outputs": [],
   "source": [
    "model2=SVC()"
   ]
  },
  {
   "cell_type": "code",
   "execution_count": 20,
   "metadata": {},
   "outputs": [
    {
     "data": {
      "text/plain": [
       "SVC()"
      ]
     },
     "execution_count": 20,
     "metadata": {},
     "output_type": "execute_result"
    }
   ],
   "source": [
    "model2.fit(x_train,y_train)"
   ]
  },
  {
   "cell_type": "code",
   "execution_count": 21,
   "metadata": {},
   "outputs": [
    {
     "data": {
      "text/plain": [
       "array(['yash'], dtype='<U7')"
      ]
     },
     "execution_count": 21,
     "metadata": {},
     "output_type": "execute_result"
    }
   ],
   "source": [
    "model2.predict(sample.reshape(1,-1))"
   ]
  },
  {
   "cell_type": "code",
   "execution_count": 22,
   "metadata": {},
   "outputs": [],
   "source": [
    "test_file2 = '/Users/yashdange/Desktop/BE Project/Audio/Test Refined/shikha_zero1.wav'\n",
    "sample2 = extract_feature(test_file2, mfcc=True, chroma=True, mel=True)\n",
    "sample2 = sample2.reshape(1,-1)\n",
    "\n",
    "test_file3 = '/Users/yashdange/Desktop/BE Project/Audio/Test Refined/shikha_zero2.wav'\n",
    "sample3 = extract_feature(test_file3, mfcc=True, chroma=True, mel=True)\n",
    "sample3 = sample3.reshape(1,-1)"
   ]
  },
  {
   "cell_type": "code",
   "execution_count": 23,
   "metadata": {},
   "outputs": [
    {
     "data": {
      "text/plain": [
       "array(['shikha'], dtype='<U7')"
      ]
     },
     "execution_count": 23,
     "metadata": {},
     "output_type": "execute_result"
    }
   ],
   "source": [
    "#MLP\n",
    "model.predict(sample2)"
   ]
  },
  {
   "cell_type": "code",
   "execution_count": 24,
   "metadata": {},
   "outputs": [
    {
     "data": {
      "text/plain": [
       "array(['yash'], dtype='<U7')"
      ]
     },
     "execution_count": 24,
     "metadata": {},
     "output_type": "execute_result"
    }
   ],
   "source": [
    "#SVM\n",
    "model2.predict(sample2)"
   ]
  },
  {
   "cell_type": "code",
   "execution_count": 25,
   "metadata": {},
   "outputs": [
    {
     "data": {
      "text/plain": [
       "array(['shikha'], dtype='<U7')"
      ]
     },
     "execution_count": 25,
     "metadata": {},
     "output_type": "execute_result"
    }
   ],
   "source": [
    "model.predict(sample3)"
   ]
  },
  {
   "cell_type": "code",
   "execution_count": 26,
   "metadata": {},
   "outputs": [
    {
     "data": {
      "text/plain": [
       "array(['yash'], dtype='<U7')"
      ]
     },
     "execution_count": 26,
     "metadata": {},
     "output_type": "execute_result"
    }
   ],
   "source": [
    "model2.predict(sample3)"
   ]
  },
  {
   "cell_type": "code",
   "execution_count": null,
   "metadata": {},
   "outputs": [
    {
     "name": "stderr",
     "output_type": "stream",
     "text": [
      "ERROR:root:Internal Python error in the inspect module.\n",
      "Below is the traceback from this internal error.\n",
      "\n",
      "ERROR:root:Internal Python error in the inspect module.\n",
      "Below is the traceback from this internal error.\n",
      "\n",
      "ERROR:root:Internal Python error in the inspect module.\n",
      "Below is the traceback from this internal error.\n",
      "\n"
     ]
    },
    {
     "name": "stdout",
     "output_type": "stream",
     "text": [
      "Traceback (most recent call last):\n",
      "  File \"/opt/anaconda3/envs/IBM_Deep_Learning/lib/python3.7/site-packages/IPython/core/interactiveshell.py\", line 3427, in run_code\n",
      "    exec(code_obj, self.user_global_ns, self.user_ns)\n",
      "  File \"<ipython-input-31-3d1e6d42ad48>\", line 1, in <module>\n",
      "    import tensorflow as tf\n",
      "  File \"/opt/anaconda3/envs/IBM_Deep_Learning/lib/python3.7/site-packages/tensorflow/__init__.py\", line 98, in <module>\n",
      "    from tensorflow_core import *\n",
      "  File \"/opt/anaconda3/envs/IBM_Deep_Learning/lib/python3.7/site-packages/tensorflow_core/__init__.py\", line 40, in <module>\n",
      "    from tensorflow.python.tools import module_util as _module_util\n",
      "  File \"<frozen importlib._bootstrap>\", line 983, in _find_and_load\n",
      "  File \"<frozen importlib._bootstrap>\", line 959, in _find_and_load_unlocked\n",
      "  File \"/opt/anaconda3/envs/IBM_Deep_Learning/lib/python3.7/site-packages/tensorflow/__init__.py\", line 50, in __getattr__\n",
      "    module = self._load()\n",
      "  File \"/opt/anaconda3/envs/IBM_Deep_Learning/lib/python3.7/site-packages/tensorflow/__init__.py\", line 44, in _load\n",
      "    module = _importlib.import_module(self.__name__)\n",
      "  File \"/opt/anaconda3/envs/IBM_Deep_Learning/lib/python3.7/importlib/__init__.py\", line 127, in import_module\n",
      "    return _bootstrap._gcd_import(name[level:], package, level)\n",
      "  File \"/opt/anaconda3/envs/IBM_Deep_Learning/lib/python3.7/site-packages/tensorflow_core/python/__init__.py\", line 52, in <module>\n",
      "    from tensorflow.core.framework.graph_pb2 import *\n",
      "  File \"/opt/anaconda3/envs/IBM_Deep_Learning/lib/python3.7/site-packages/tensorflow_core/core/framework/graph_pb2.py\", line 7, in <module>\n",
      "    from google.protobuf import descriptor as _descriptor\n",
      "  File \"/opt/anaconda3/envs/IBM_Deep_Learning/lib/python3.7/site-packages/google/protobuf/descriptor.py\", line 40, in <module>\n",
      "    from google.protobuf.internal import api_implementation\n",
      "  File \"/opt/anaconda3/envs/IBM_Deep_Learning/lib/python3.7/site-packages/google/protobuf/internal/api_implementation.py\", line 104, in <module>\n",
      "    from google.protobuf.pyext import _message\n",
      "TypeError: bases must be types\n",
      "\n",
      "During handling of the above exception, another exception occurred:\n",
      "\n",
      "Traceback (most recent call last):\n",
      "  File \"/opt/anaconda3/envs/IBM_Deep_Learning/lib/python3.7/site-packages/IPython/core/interactiveshell.py\", line 2054, in showtraceback\n",
      "    stb = value._render_traceback_()\n",
      "AttributeError: 'TypeError' object has no attribute '_render_traceback_'\n",
      "\n",
      "During handling of the above exception, another exception occurred:\n",
      "\n",
      "Traceback (most recent call last):\n",
      "  File \"/opt/anaconda3/envs/IBM_Deep_Learning/lib/python3.7/site-packages/IPython/core/ultratb.py\", line 1101, in get_records\n",
      "    return _fixed_getinnerframes(etb, number_of_lines_of_context, tb_offset)\n",
      "  File \"/opt/anaconda3/envs/IBM_Deep_Learning/lib/python3.7/site-packages/IPython/core/ultratb.py\", line 248, in wrapped\n",
      "    return f(*args, **kwargs)\n",
      "  File \"/opt/anaconda3/envs/IBM_Deep_Learning/lib/python3.7/site-packages/IPython/core/ultratb.py\", line 281, in _fixed_getinnerframes\n",
      "    records = fix_frame_records_filenames(inspect.getinnerframes(etb, context))\n",
      "  File \"/opt/anaconda3/envs/IBM_Deep_Learning/lib/python3.7/inspect.py\", line 1502, in getinnerframes\n",
      "    frameinfo = (tb.tb_frame,) + getframeinfo(tb, context)\n",
      "  File \"/opt/anaconda3/envs/IBM_Deep_Learning/lib/python3.7/inspect.py\", line 1460, in getframeinfo\n",
      "    filename = getsourcefile(frame) or getfile(frame)\n",
      "  File \"/opt/anaconda3/envs/IBM_Deep_Learning/lib/python3.7/inspect.py\", line 696, in getsourcefile\n",
      "    if getattr(getmodule(object, filename), '__loader__', None) is not None:\n",
      "  File \"/opt/anaconda3/envs/IBM_Deep_Learning/lib/python3.7/inspect.py\", line 733, in getmodule\n",
      "    if ismodule(module) and hasattr(module, '__file__'):\n",
      "  File \"/opt/anaconda3/envs/IBM_Deep_Learning/lib/python3.7/site-packages/tensorflow/__init__.py\", line 50, in __getattr__\n",
      "    module = self._load()\n",
      "  File \"/opt/anaconda3/envs/IBM_Deep_Learning/lib/python3.7/site-packages/tensorflow/__init__.py\", line 44, in _load\n",
      "    module = _importlib.import_module(self.__name__)\n",
      "  File \"/opt/anaconda3/envs/IBM_Deep_Learning/lib/python3.7/importlib/__init__.py\", line 127, in import_module\n",
      "    return _bootstrap._gcd_import(name[level:], package, level)\n",
      "  File \"<frozen importlib._bootstrap>\", line 1006, in _gcd_import\n",
      "  File \"<frozen importlib._bootstrap>\", line 983, in _find_and_load\n",
      "  File \"<frozen importlib._bootstrap>\", line 953, in _find_and_load_unlocked\n",
      "  File \"<frozen importlib._bootstrap>\", line 219, in _call_with_frames_removed\n",
      "  File \"<frozen importlib._bootstrap>\", line 1006, in _gcd_import\n",
      "  File \"<frozen importlib._bootstrap>\", line 983, in _find_and_load\n",
      "  File \"<frozen importlib._bootstrap>\", line 967, in _find_and_load_unlocked\n",
      "  File \"<frozen importlib._bootstrap>\", line 677, in _load_unlocked\n",
      "  File \"<frozen importlib._bootstrap_external>\", line 728, in exec_module\n",
      "  File \"<frozen importlib._bootstrap>\", line 219, in _call_with_frames_removed\n",
      "  File \"/opt/anaconda3/envs/IBM_Deep_Learning/lib/python3.7/site-packages/tensorflow_core/__init__.py\", line 42, in <module>\n",
      "    from . _api.v2 import audio\n",
      "  File \"/opt/anaconda3/envs/IBM_Deep_Learning/lib/python3.7/site-packages/tensorflow_core/_api/v2/audio/__init__.py\", line 10, in <module>\n",
      "    from tensorflow.python.ops.gen_audio_ops import decode_wav\n",
      "  File \"/opt/anaconda3/envs/IBM_Deep_Learning/lib/python3.7/site-packages/tensorflow_core/python/ops/gen_audio_ops.py\", line 11, in <module>\n",
      "    from tensorflow.python.eager import context as _context\n",
      "  File \"/opt/anaconda3/envs/IBM_Deep_Learning/lib/python3.7/site-packages/tensorflow_core/python/eager/context.py\", line 29, in <module>\n",
      "    from tensorflow.core.protobuf import config_pb2\n",
      "  File \"/opt/anaconda3/envs/IBM_Deep_Learning/lib/python3.7/site-packages/tensorflow_core/core/protobuf/config_pb2.py\", line 7, in <module>\n",
      "    from google.protobuf import descriptor as _descriptor\n",
      "  File \"/opt/anaconda3/envs/IBM_Deep_Learning/lib/python3.7/site-packages/google/protobuf/descriptor.py\", line 40, in <module>\n",
      "    from google.protobuf.internal import api_implementation\n",
      "  File \"/opt/anaconda3/envs/IBM_Deep_Learning/lib/python3.7/site-packages/google/protobuf/internal/api_implementation.py\", line 104, in <module>\n",
      "    from google.protobuf.pyext import _message\n",
      "TypeError: bases must be types\n",
      "Traceback (most recent call last):\n",
      "  File \"/opt/anaconda3/envs/IBM_Deep_Learning/lib/python3.7/site-packages/IPython/core/interactiveshell.py\", line 3427, in run_code\n",
      "    exec(code_obj, self.user_global_ns, self.user_ns)\n",
      "  File \"<ipython-input-31-3d1e6d42ad48>\", line 1, in <module>\n",
      "    import tensorflow as tf\n",
      "  File \"/opt/anaconda3/envs/IBM_Deep_Learning/lib/python3.7/site-packages/tensorflow/__init__.py\", line 98, in <module>\n",
      "    from tensorflow_core import *\n",
      "  File \"/opt/anaconda3/envs/IBM_Deep_Learning/lib/python3.7/site-packages/tensorflow_core/__init__.py\", line 40, in <module>\n",
      "    from tensorflow.python.tools import module_util as _module_util\n",
      "  File \"<frozen importlib._bootstrap>\", line 983, in _find_and_load\n",
      "  File \"<frozen importlib._bootstrap>\", line 959, in _find_and_load_unlocked\n",
      "  File \"/opt/anaconda3/envs/IBM_Deep_Learning/lib/python3.7/site-packages/tensorflow/__init__.py\", line 50, in __getattr__\n",
      "    module = self._load()\n",
      "  File \"/opt/anaconda3/envs/IBM_Deep_Learning/lib/python3.7/site-packages/tensorflow/__init__.py\", line 44, in _load\n",
      "    module = _importlib.import_module(self.__name__)\n",
      "  File \"/opt/anaconda3/envs/IBM_Deep_Learning/lib/python3.7/importlib/__init__.py\", line 127, in import_module\n",
      "    return _bootstrap._gcd_import(name[level:], package, level)\n",
      "  File \"/opt/anaconda3/envs/IBM_Deep_Learning/lib/python3.7/site-packages/tensorflow_core/python/__init__.py\", line 52, in <module>\n",
      "    from tensorflow.core.framework.graph_pb2 import *\n",
      "  File \"/opt/anaconda3/envs/IBM_Deep_Learning/lib/python3.7/site-packages/tensorflow_core/core/framework/graph_pb2.py\", line 7, in <module>\n",
      "    from google.protobuf import descriptor as _descriptor\n",
      "  File \"/opt/anaconda3/envs/IBM_Deep_Learning/lib/python3.7/site-packages/google/protobuf/descriptor.py\", line 40, in <module>\n",
      "    from google.protobuf.internal import api_implementation\n",
      "  File \"/opt/anaconda3/envs/IBM_Deep_Learning/lib/python3.7/site-packages/google/protobuf/internal/api_implementation.py\", line 104, in <module>\n",
      "    from google.protobuf.pyext import _message\n",
      "TypeError: bases must be types\n",
      "\n",
      "During handling of the above exception, another exception occurred:\n",
      "\n",
      "Traceback (most recent call last):\n",
      "  File \"/opt/anaconda3/envs/IBM_Deep_Learning/lib/python3.7/site-packages/IPython/core/interactiveshell.py\", line 2054, in showtraceback\n",
      "    stb = value._render_traceback_()\n",
      "AttributeError: 'TypeError' object has no attribute '_render_traceback_'\n",
      "\n",
      "During handling of the above exception, another exception occurred:\n",
      "\n",
      "Traceback (most recent call last):\n",
      "  File \"/opt/anaconda3/envs/IBM_Deep_Learning/lib/python3.7/site-packages/IPython/core/interactiveshell.py\", line 3347, in run_ast_nodes\n",
      "    if (await self.run_code(code, result,  async_=asy)):\n",
      "  File \"/opt/anaconda3/envs/IBM_Deep_Learning/lib/python3.7/site-packages/IPython/core/interactiveshell.py\", line 3444, in run_code\n",
      "    self.showtraceback(running_compiled_code=True)\n",
      "  File \"/opt/anaconda3/envs/IBM_Deep_Learning/lib/python3.7/site-packages/IPython/core/interactiveshell.py\", line 2057, in showtraceback\n",
      "    value, tb, tb_offset=tb_offset)\n",
      "  File \"/opt/anaconda3/envs/IBM_Deep_Learning/lib/python3.7/site-packages/IPython/core/ultratb.py\", line 1368, in structured_traceback\n",
      "    self, etype, value, tb, tb_offset, number_of_lines_of_context)\n",
      "  File \"/opt/anaconda3/envs/IBM_Deep_Learning/lib/python3.7/site-packages/IPython/core/ultratb.py\", line 1268, in structured_traceback\n",
      "    self, etype, value, tb, tb_offset, number_of_lines_of_context\n",
      "  File \"/opt/anaconda3/envs/IBM_Deep_Learning/lib/python3.7/site-packages/IPython/core/ultratb.py\", line 1125, in structured_traceback\n",
      "    tb_offset)\n",
      "  File \"/opt/anaconda3/envs/IBM_Deep_Learning/lib/python3.7/site-packages/IPython/core/ultratb.py\", line 1082, in format_exception_as_a_whole\n",
      "    last_unique, recursion_repeat = find_recursion(orig_etype, evalue, records)\n",
      "  File \"/opt/anaconda3/envs/IBM_Deep_Learning/lib/python3.7/site-packages/IPython/core/ultratb.py\", line 382, in find_recursion\n",
      "    return len(records), 0\n",
      "TypeError: object of type 'NoneType' has no len()\n",
      "\n",
      "During handling of the above exception, another exception occurred:\n",
      "\n",
      "Traceback (most recent call last):\n",
      "  File \"/opt/anaconda3/envs/IBM_Deep_Learning/lib/python3.7/site-packages/IPython/core/interactiveshell.py\", line 2054, in showtraceback\n",
      "    stb = value._render_traceback_()\n",
      "AttributeError: 'TypeError' object has no attribute '_render_traceback_'\n",
      "\n",
      "During handling of the above exception, another exception occurred:\n",
      "\n",
      "Traceback (most recent call last):\n",
      "  File \"/opt/anaconda3/envs/IBM_Deep_Learning/lib/python3.7/site-packages/IPython/core/ultratb.py\", line 1101, in get_records\n",
      "    return _fixed_getinnerframes(etb, number_of_lines_of_context, tb_offset)\n",
      "  File \"/opt/anaconda3/envs/IBM_Deep_Learning/lib/python3.7/site-packages/IPython/core/ultratb.py\", line 248, in wrapped\n",
      "    return f(*args, **kwargs)\n",
      "  File \"/opt/anaconda3/envs/IBM_Deep_Learning/lib/python3.7/site-packages/IPython/core/ultratb.py\", line 281, in _fixed_getinnerframes\n",
      "    records = fix_frame_records_filenames(inspect.getinnerframes(etb, context))\n",
      "  File \"/opt/anaconda3/envs/IBM_Deep_Learning/lib/python3.7/inspect.py\", line 1502, in getinnerframes\n",
      "    frameinfo = (tb.tb_frame,) + getframeinfo(tb, context)\n",
      "  File \"/opt/anaconda3/envs/IBM_Deep_Learning/lib/python3.7/inspect.py\", line 1460, in getframeinfo\n",
      "    filename = getsourcefile(frame) or getfile(frame)\n",
      "  File \"/opt/anaconda3/envs/IBM_Deep_Learning/lib/python3.7/inspect.py\", line 696, in getsourcefile\n",
      "    if getattr(getmodule(object, filename), '__loader__', None) is not None:\n",
      "  File \"/opt/anaconda3/envs/IBM_Deep_Learning/lib/python3.7/inspect.py\", line 733, in getmodule\n",
      "    if ismodule(module) and hasattr(module, '__file__'):\n",
      "  File \"/opt/anaconda3/envs/IBM_Deep_Learning/lib/python3.7/site-packages/tensorflow/__init__.py\", line 50, in __getattr__\n",
      "    module = self._load()\n",
      "  File \"/opt/anaconda3/envs/IBM_Deep_Learning/lib/python3.7/site-packages/tensorflow/__init__.py\", line 44, in _load\n",
      "    module = _importlib.import_module(self.__name__)\n",
      "  File \"/opt/anaconda3/envs/IBM_Deep_Learning/lib/python3.7/importlib/__init__.py\", line 127, in import_module\n",
      "    return _bootstrap._gcd_import(name[level:], package, level)\n",
      "  File \"<frozen importlib._bootstrap>\", line 1006, in _gcd_import\n",
      "  File \"<frozen importlib._bootstrap>\", line 983, in _find_and_load\n",
      "  File \"<frozen importlib._bootstrap>\", line 953, in _find_and_load_unlocked\n",
      "  File \"<frozen importlib._bootstrap>\", line 219, in _call_with_frames_removed\n",
      "  File \"<frozen importlib._bootstrap>\", line 1006, in _gcd_import\n",
      "  File \"<frozen importlib._bootstrap>\", line 983, in _find_and_load\n",
      "  File \"<frozen importlib._bootstrap>\", line 967, in _find_and_load_unlocked\n",
      "  File \"<frozen importlib._bootstrap>\", line 677, in _load_unlocked\n",
      "  File \"<frozen importlib._bootstrap_external>\", line 728, in exec_module\n",
      "  File \"<frozen importlib._bootstrap>\", line 219, in _call_with_frames_removed\n",
      "  File \"/opt/anaconda3/envs/IBM_Deep_Learning/lib/python3.7/site-packages/tensorflow_core/__init__.py\", line 42, in <module>\n",
      "    from . _api.v2 import audio\n",
      "  File \"/opt/anaconda3/envs/IBM_Deep_Learning/lib/python3.7/site-packages/tensorflow_core/_api/v2/audio/__init__.py\", line 10, in <module>\n",
      "    from tensorflow.python.ops.gen_audio_ops import decode_wav\n",
      "  File \"/opt/anaconda3/envs/IBM_Deep_Learning/lib/python3.7/site-packages/tensorflow_core/python/ops/gen_audio_ops.py\", line 11, in <module>\n",
      "    from tensorflow.python.eager import context as _context\n",
      "  File \"/opt/anaconda3/envs/IBM_Deep_Learning/lib/python3.7/site-packages/tensorflow_core/python/eager/context.py\", line 29, in <module>\n",
      "    from tensorflow.core.protobuf import config_pb2\n",
      "  File \"/opt/anaconda3/envs/IBM_Deep_Learning/lib/python3.7/site-packages/tensorflow_core/core/protobuf/config_pb2.py\", line 7, in <module>\n",
      "    from google.protobuf import descriptor as _descriptor\n",
      "  File \"/opt/anaconda3/envs/IBM_Deep_Learning/lib/python3.7/site-packages/google/protobuf/descriptor.py\", line 40, in <module>\n",
      "    from google.protobuf.internal import api_implementation\n",
      "  File \"/opt/anaconda3/envs/IBM_Deep_Learning/lib/python3.7/site-packages/google/protobuf/internal/api_implementation.py\", line 104, in <module>\n",
      "    from google.protobuf.pyext import _message\n",
      "TypeError: bases must be types\n",
      "Traceback (most recent call last):\n",
      "  File \"/opt/anaconda3/envs/IBM_Deep_Learning/lib/python3.7/site-packages/IPython/core/interactiveshell.py\", line 3427, in run_code\n",
      "    exec(code_obj, self.user_global_ns, self.user_ns)\n",
      "  File \"<ipython-input-31-3d1e6d42ad48>\", line 1, in <module>\n",
      "    import tensorflow as tf\n",
      "  File \"/opt/anaconda3/envs/IBM_Deep_Learning/lib/python3.7/site-packages/tensorflow/__init__.py\", line 98, in <module>\n",
      "    from tensorflow_core import *\n",
      "  File \"/opt/anaconda3/envs/IBM_Deep_Learning/lib/python3.7/site-packages/tensorflow_core/__init__.py\", line 40, in <module>\n",
      "    from tensorflow.python.tools import module_util as _module_util\n",
      "  File \"<frozen importlib._bootstrap>\", line 983, in _find_and_load\n",
      "  File \"<frozen importlib._bootstrap>\", line 959, in _find_and_load_unlocked\n",
      "  File \"/opt/anaconda3/envs/IBM_Deep_Learning/lib/python3.7/site-packages/tensorflow/__init__.py\", line 50, in __getattr__\n",
      "    module = self._load()\n",
      "  File \"/opt/anaconda3/envs/IBM_Deep_Learning/lib/python3.7/site-packages/tensorflow/__init__.py\", line 44, in _load\n",
      "    module = _importlib.import_module(self.__name__)\n",
      "  File \"/opt/anaconda3/envs/IBM_Deep_Learning/lib/python3.7/importlib/__init__.py\", line 127, in import_module\n",
      "    return _bootstrap._gcd_import(name[level:], package, level)\n",
      "  File \"/opt/anaconda3/envs/IBM_Deep_Learning/lib/python3.7/site-packages/tensorflow_core/python/__init__.py\", line 52, in <module>\n",
      "    from tensorflow.core.framework.graph_pb2 import *\n",
      "  File \"/opt/anaconda3/envs/IBM_Deep_Learning/lib/python3.7/site-packages/tensorflow_core/core/framework/graph_pb2.py\", line 7, in <module>\n",
      "    from google.protobuf import descriptor as _descriptor\n",
      "  File \"/opt/anaconda3/envs/IBM_Deep_Learning/lib/python3.7/site-packages/google/protobuf/descriptor.py\", line 40, in <module>\n",
      "    from google.protobuf.internal import api_implementation\n",
      "  File \"/opt/anaconda3/envs/IBM_Deep_Learning/lib/python3.7/site-packages/google/protobuf/internal/api_implementation.py\", line 104, in <module>\n",
      "    from google.protobuf.pyext import _message\n",
      "TypeError: bases must be types\n",
      "\n",
      "During handling of the above exception, another exception occurred:\n",
      "\n",
      "Traceback (most recent call last):\n",
      "  File \"/opt/anaconda3/envs/IBM_Deep_Learning/lib/python3.7/site-packages/IPython/core/interactiveshell.py\", line 2054, in showtraceback\n",
      "    stb = value._render_traceback_()\n",
      "AttributeError: 'TypeError' object has no attribute '_render_traceback_'\n",
      "\n",
      "During handling of the above exception, another exception occurred:\n",
      "\n",
      "Traceback (most recent call last):\n",
      "  File \"/opt/anaconda3/envs/IBM_Deep_Learning/lib/python3.7/site-packages/IPython/core/interactiveshell.py\", line 3347, in run_ast_nodes\n",
      "    if (await self.run_code(code, result,  async_=asy)):\n",
      "  File \"/opt/anaconda3/envs/IBM_Deep_Learning/lib/python3.7/site-packages/IPython/core/interactiveshell.py\", line 3444, in run_code\n",
      "    self.showtraceback(running_compiled_code=True)\n",
      "  File \"/opt/anaconda3/envs/IBM_Deep_Learning/lib/python3.7/site-packages/IPython/core/interactiveshell.py\", line 2057, in showtraceback\n",
      "    value, tb, tb_offset=tb_offset)\n",
      "  File \"/opt/anaconda3/envs/IBM_Deep_Learning/lib/python3.7/site-packages/IPython/core/ultratb.py\", line 1368, in structured_traceback\n",
      "    self, etype, value, tb, tb_offset, number_of_lines_of_context)\n",
      "  File \"/opt/anaconda3/envs/IBM_Deep_Learning/lib/python3.7/site-packages/IPython/core/ultratb.py\", line 1268, in structured_traceback\n",
      "    self, etype, value, tb, tb_offset, number_of_lines_of_context\n",
      "  File \"/opt/anaconda3/envs/IBM_Deep_Learning/lib/python3.7/site-packages/IPython/core/ultratb.py\", line 1125, in structured_traceback\n",
      "    tb_offset)\n",
      "  File \"/opt/anaconda3/envs/IBM_Deep_Learning/lib/python3.7/site-packages/IPython/core/ultratb.py\", line 1082, in format_exception_as_a_whole\n",
      "    last_unique, recursion_repeat = find_recursion(orig_etype, evalue, records)\n",
      "  File \"/opt/anaconda3/envs/IBM_Deep_Learning/lib/python3.7/site-packages/IPython/core/ultratb.py\", line 382, in find_recursion\n",
      "    return len(records), 0\n",
      "TypeError: object of type 'NoneType' has no len()\n",
      "\n",
      "During handling of the above exception, another exception occurred:\n",
      "\n",
      "Traceback (most recent call last):\n",
      "  File \"/opt/anaconda3/envs/IBM_Deep_Learning/lib/python3.7/site-packages/IPython/core/interactiveshell.py\", line 2054, in showtraceback\n",
      "    stb = value._render_traceback_()\n",
      "AttributeError: 'TypeError' object has no attribute '_render_traceback_'\n",
      "\n",
      "During handling of the above exception, another exception occurred:\n",
      "\n",
      "Traceback (most recent call last):\n",
      "  File \"/opt/anaconda3/envs/IBM_Deep_Learning/lib/python3.7/site-packages/IPython/core/interactiveshell.py\", line 2932, in _run_cell\n",
      "    return runner(coro)\n",
      "  File \"/opt/anaconda3/envs/IBM_Deep_Learning/lib/python3.7/site-packages/IPython/core/async_helpers.py\", line 68, in _pseudo_sync_runner\n",
      "    coro.send(None)\n",
      "  File \"/opt/anaconda3/envs/IBM_Deep_Learning/lib/python3.7/site-packages/IPython/core/interactiveshell.py\", line 3156, in run_cell_async\n",
      "    interactivity=interactivity, compiler=compiler, result=result)\n",
      "  File \"/opt/anaconda3/envs/IBM_Deep_Learning/lib/python3.7/site-packages/IPython/core/interactiveshell.py\", line 3366, in run_ast_nodes\n",
      "    self.showtraceback()\n",
      "  File \"/opt/anaconda3/envs/IBM_Deep_Learning/lib/python3.7/site-packages/IPython/core/interactiveshell.py\", line 2057, in showtraceback\n",
      "    value, tb, tb_offset=tb_offset)\n",
      "  File \"/opt/anaconda3/envs/IBM_Deep_Learning/lib/python3.7/site-packages/IPython/core/ultratb.py\", line 1368, in structured_traceback\n",
      "    self, etype, value, tb, tb_offset, number_of_lines_of_context)\n",
      "  File \"/opt/anaconda3/envs/IBM_Deep_Learning/lib/python3.7/site-packages/IPython/core/ultratb.py\", line 1268, in structured_traceback\n",
      "    self, etype, value, tb, tb_offset, number_of_lines_of_context\n",
      "  File \"/opt/anaconda3/envs/IBM_Deep_Learning/lib/python3.7/site-packages/IPython/core/ultratb.py\", line 1143, in structured_traceback\n",
      "    chained_exceptions_tb_offset)\n",
      "  File \"/opt/anaconda3/envs/IBM_Deep_Learning/lib/python3.7/site-packages/IPython/core/ultratb.py\", line 1082, in format_exception_as_a_whole\n",
      "    last_unique, recursion_repeat = find_recursion(orig_etype, evalue, records)\n",
      "  File \"/opt/anaconda3/envs/IBM_Deep_Learning/lib/python3.7/site-packages/IPython/core/ultratb.py\", line 382, in find_recursion\n",
      "    return len(records), 0\n",
      "TypeError: object of type 'NoneType' has no len()\n",
      "\n",
      "During handling of the above exception, another exception occurred:\n",
      "\n",
      "Traceback (most recent call last):\n",
      "  File \"/opt/anaconda3/envs/IBM_Deep_Learning/lib/python3.7/site-packages/IPython/core/interactiveshell.py\", line 2054, in showtraceback\n",
      "    stb = value._render_traceback_()\n",
      "AttributeError: 'TypeError' object has no attribute '_render_traceback_'\n",
      "\n",
      "During handling of the above exception, another exception occurred:\n",
      "\n",
      "Traceback (most recent call last):\n",
      "  File \"/opt/anaconda3/envs/IBM_Deep_Learning/lib/python3.7/site-packages/IPython/core/ultratb.py\", line 1101, in get_records\n",
      "    return _fixed_getinnerframes(etb, number_of_lines_of_context, tb_offset)\n",
      "  File \"/opt/anaconda3/envs/IBM_Deep_Learning/lib/python3.7/site-packages/IPython/core/ultratb.py\", line 248, in wrapped\n",
      "    return f(*args, **kwargs)\n",
      "  File \"/opt/anaconda3/envs/IBM_Deep_Learning/lib/python3.7/site-packages/IPython/core/ultratb.py\", line 281, in _fixed_getinnerframes\n",
      "    records = fix_frame_records_filenames(inspect.getinnerframes(etb, context))\n",
      "  File \"/opt/anaconda3/envs/IBM_Deep_Learning/lib/python3.7/inspect.py\", line 1502, in getinnerframes\n",
      "    frameinfo = (tb.tb_frame,) + getframeinfo(tb, context)\n",
      "  File \"/opt/anaconda3/envs/IBM_Deep_Learning/lib/python3.7/inspect.py\", line 1460, in getframeinfo\n",
      "    filename = getsourcefile(frame) or getfile(frame)\n",
      "  File \"/opt/anaconda3/envs/IBM_Deep_Learning/lib/python3.7/inspect.py\", line 696, in getsourcefile\n",
      "    if getattr(getmodule(object, filename), '__loader__', None) is not None:\n",
      "  File \"/opt/anaconda3/envs/IBM_Deep_Learning/lib/python3.7/inspect.py\", line 733, in getmodule\n",
      "    if ismodule(module) and hasattr(module, '__file__'):\n",
      "  File \"/opt/anaconda3/envs/IBM_Deep_Learning/lib/python3.7/site-packages/tensorflow/__init__.py\", line 50, in __getattr__\n",
      "    module = self._load()\n",
      "  File \"/opt/anaconda3/envs/IBM_Deep_Learning/lib/python3.7/site-packages/tensorflow/__init__.py\", line 44, in _load\n",
      "    module = _importlib.import_module(self.__name__)\n",
      "  File \"/opt/anaconda3/envs/IBM_Deep_Learning/lib/python3.7/importlib/__init__.py\", line 127, in import_module\n",
      "    return _bootstrap._gcd_import(name[level:], package, level)\n",
      "  File \"<frozen importlib._bootstrap>\", line 1006, in _gcd_import\n",
      "  File \"<frozen importlib._bootstrap>\", line 983, in _find_and_load\n",
      "  File \"<frozen importlib._bootstrap>\", line 953, in _find_and_load_unlocked\n",
      "  File \"<frozen importlib._bootstrap>\", line 219, in _call_with_frames_removed\n",
      "  File \"<frozen importlib._bootstrap>\", line 1006, in _gcd_import\n",
      "  File \"<frozen importlib._bootstrap>\", line 983, in _find_and_load\n",
      "  File \"<frozen importlib._bootstrap>\", line 967, in _find_and_load_unlocked\n",
      "  File \"<frozen importlib._bootstrap>\", line 677, in _load_unlocked\n",
      "  File \"<frozen importlib._bootstrap_external>\", line 728, in exec_module\n",
      "  File \"<frozen importlib._bootstrap>\", line 219, in _call_with_frames_removed\n",
      "  File \"/opt/anaconda3/envs/IBM_Deep_Learning/lib/python3.7/site-packages/tensorflow_core/__init__.py\", line 42, in <module>\n",
      "    from . _api.v2 import audio\n",
      "  File \"/opt/anaconda3/envs/IBM_Deep_Learning/lib/python3.7/site-packages/tensorflow_core/_api/v2/audio/__init__.py\", line 10, in <module>\n",
      "    from tensorflow.python.ops.gen_audio_ops import decode_wav\n",
      "  File \"/opt/anaconda3/envs/IBM_Deep_Learning/lib/python3.7/site-packages/tensorflow_core/python/ops/gen_audio_ops.py\", line 11, in <module>\n",
      "    from tensorflow.python.eager import context as _context\n",
      "  File \"/opt/anaconda3/envs/IBM_Deep_Learning/lib/python3.7/site-packages/tensorflow_core/python/eager/context.py\", line 29, in <module>\n",
      "    from tensorflow.core.protobuf import config_pb2\n",
      "  File \"/opt/anaconda3/envs/IBM_Deep_Learning/lib/python3.7/site-packages/tensorflow_core/core/protobuf/config_pb2.py\", line 7, in <module>\n",
      "    from google.protobuf import descriptor as _descriptor\n",
      "  File \"/opt/anaconda3/envs/IBM_Deep_Learning/lib/python3.7/site-packages/google/protobuf/descriptor.py\", line 40, in <module>\n",
      "    from google.protobuf.internal import api_implementation\n",
      "  File \"/opt/anaconda3/envs/IBM_Deep_Learning/lib/python3.7/site-packages/google/protobuf/internal/api_implementation.py\", line 104, in <module>\n",
      "    from google.protobuf.pyext import _message\n",
      "TypeError: bases must be types\n"
     ]
    }
   ],
   "source": [
    "import tensorflow as tf\n",
    "from tensorflow import keras"
   ]
  },
  {
   "cell_type": "code",
   "execution_count": 1,
   "metadata": {},
   "outputs": [
    {
     "ename": "NameError",
     "evalue": "name 'y_train' is not defined",
     "output_type": "error",
     "traceback": [
      "\u001b[0;31m---------------------------------------------------------------------------\u001b[0m",
      "\u001b[0;31mNameError\u001b[0m                                 Traceback (most recent call last)",
      "\u001b[0;32m<ipython-input-1-d63b58344716>\u001b[0m in \u001b[0;36m<module>\u001b[0;34m\u001b[0m\n\u001b[1;32m      1\u001b[0m \u001b[0;32mfrom\u001b[0m \u001b[0msklearn\u001b[0m \u001b[0;32mimport\u001b[0m \u001b[0mpreprocessing\u001b[0m\u001b[0;34m\u001b[0m\u001b[0;34m\u001b[0m\u001b[0m\n\u001b[1;32m      2\u001b[0m \u001b[0mle\u001b[0m \u001b[0;34m=\u001b[0m \u001b[0mpreprocessing\u001b[0m\u001b[0;34m.\u001b[0m\u001b[0mLabelEncoder\u001b[0m\u001b[0;34m(\u001b[0m\u001b[0;34m)\u001b[0m\u001b[0;34m\u001b[0m\u001b[0;34m\u001b[0m\u001b[0m\n\u001b[0;32m----> 3\u001b[0;31m \u001b[0my_train_encoded\u001b[0m\u001b[0;34m=\u001b[0m \u001b[0mle\u001b[0m\u001b[0;34m.\u001b[0m\u001b[0mfit_transform\u001b[0m\u001b[0;34m(\u001b[0m\u001b[0my_train\u001b[0m\u001b[0;34m)\u001b[0m\u001b[0;34m\u001b[0m\u001b[0;34m\u001b[0m\u001b[0m\n\u001b[0m",
      "\u001b[0;31mNameError\u001b[0m: name 'y_train' is not defined"
     ]
    }
   ],
   "source": [
    "from sklearn import preprocessing\n",
    "le = preprocessing.LabelEncoder()\n",
    "y_train_encoded= le.fit_transform(y_train)"
   ]
  },
  {
   "cell_type": "code",
   "execution_count": 32,
   "metadata": {},
   "outputs": [
    {
     "data": {
      "text/plain": [
       "array([1, 3, 3, 2, 1, 1, 3, 0, 2, 0, 3, 2, 3, 1, 0])"
      ]
     },
     "execution_count": 32,
     "metadata": {},
     "output_type": "execute_result"
    }
   ],
   "source": [
    "y_train_encoded"
   ]
  },
  {
   "cell_type": "code",
   "execution_count": 33,
   "metadata": {},
   "outputs": [
    {
     "data": {
      "text/plain": [
       "(15, 168)"
      ]
     },
     "execution_count": 33,
     "metadata": {},
     "output_type": "execute_result"
    }
   ],
   "source": [
    "x_train.shape"
   ]
  },
  {
   "cell_type": "code",
   "execution_count": 34,
   "metadata": {},
   "outputs": [
    {
     "data": {
      "text/plain": [
       "(15,)"
      ]
     },
     "execution_count": 34,
     "metadata": {},
     "output_type": "execute_result"
    }
   ],
   "source": [
    "y_train_np = np.array(y_train)\n",
    "y_train_np.shape"
   ]
  },
  {
   "cell_type": "code",
   "execution_count": null,
   "metadata": {},
   "outputs": [
    {
     "name": "stderr",
     "output_type": "stream",
     "text": [
      "ERROR:root:Internal Python error in the inspect module.\n",
      "Below is the traceback from this internal error.\n",
      "\n",
      "ERROR:root:Internal Python error in the inspect module.\n",
      "Below is the traceback from this internal error.\n",
      "\n"
     ]
    }
   ],
   "source": [
    "#Simple neural network\n",
    "model3 = keras.Sequential([\n",
    "    keras.layers.Dense(100,input_shape=(168,), activation = 'sigmoid'),\n",
    "    keras.layers.Dense(5, activation = 'sigmoid'),\n",
    "    #keras.layers.Dense(5, activation = 'sigmoid'),\n",
    "])\n",
    "\n",
    "model3.compile(\n",
    "    optimizer = 'adam',\n",
    "    loss = 'sparse_categorical_crossentropy',\n",
    "    metrics = ['accuracy']\n",
    ")\n",
    "model3.fit(x_train,y_train_encoded,epochs = 160)t"
   ]
  },
  {
   "cell_type": "code",
   "execution_count": 1,
   "metadata": {},
   "outputs": [
    {
     "ename": "NameError",
     "evalue": "name 'le' is not defined",
     "output_type": "error",
     "traceback": [
      "\u001b[0;31m---------------------------------------------------------------------------\u001b[0m",
      "\u001b[0;31mNameError\u001b[0m                                 Traceback (most recent call last)",
      "\u001b[0;32m<ipython-input-1-b569e058f861>\u001b[0m in \u001b[0;36m<module>\u001b[0;34m\u001b[0m\n\u001b[0;32m----> 1\u001b[0;31m \u001b[0my_test_encoded\u001b[0m \u001b[0;34m=\u001b[0m \u001b[0mle\u001b[0m\u001b[0;34m.\u001b[0m\u001b[0mfit_transform\u001b[0m\u001b[0;34m(\u001b[0m\u001b[0my_test\u001b[0m\u001b[0;34m)\u001b[0m\u001b[0;34m\u001b[0m\u001b[0;34m\u001b[0m\u001b[0m\n\u001b[0m",
      "\u001b[0;31mNameError\u001b[0m: name 'le' is not defined"
     ]
    }
   ],
   "source": [
    "y_test_encoded = le.fit_transform(y_test)"
   ]
  },
  {
   "cell_type": "code",
   "execution_count": 1,
   "metadata": {},
   "outputs": [
    {
     "ename": "NameError",
     "evalue": "name 'np' is not defined",
     "output_type": "error",
     "traceback": [
      "\u001b[0;31m---------------------------------------------------------------------------\u001b[0m",
      "\u001b[0;31mNameError\u001b[0m                                 Traceback (most recent call last)",
      "\u001b[0;32m<ipython-input-1-a6c984c07999>\u001b[0m in \u001b[0;36m<module>\u001b[0;34m\u001b[0m\n\u001b[0;32m----> 1\u001b[0;31m \u001b[0mprediction\u001b[0m \u001b[0;34m=\u001b[0m \u001b[0mnp\u001b[0m\u001b[0;34m.\u001b[0m\u001b[0margmax\u001b[0m\u001b[0;34m(\u001b[0m\u001b[0mmodel3\u001b[0m\u001b[0;34m.\u001b[0m\u001b[0mpredict\u001b[0m\u001b[0;34m(\u001b[0m\u001b[0msample2\u001b[0m\u001b[0;34m)\u001b[0m\u001b[0;34m)\u001b[0m\u001b[0;34m\u001b[0m\u001b[0;34m\u001b[0m\u001b[0m\n\u001b[0m\u001b[1;32m      2\u001b[0m \u001b[0mprediction\u001b[0m \u001b[0;34m=\u001b[0m \u001b[0;34m'0'\u001b[0m \u001b[0;34m+\u001b[0m \u001b[0mstr\u001b[0m\u001b[0;34m(\u001b[0m\u001b[0mprediction\u001b[0m\u001b[0;34m+\u001b[0m\u001b[0;36m1\u001b[0m\u001b[0;34m)\u001b[0m\u001b[0;34m\u001b[0m\u001b[0;34m\u001b[0m\u001b[0m\n\u001b[1;32m      3\u001b[0m \u001b[0mperson_prediction\u001b[0m \u001b[0;34m=\u001b[0m \u001b[0mpeople\u001b[0m\u001b[0;34m[\u001b[0m\u001b[0mprediction\u001b[0m\u001b[0;34m]\u001b[0m\u001b[0;34m\u001b[0m\u001b[0;34m\u001b[0m\u001b[0m\n\u001b[1;32m      4\u001b[0m \u001b[0mperson_prediction\u001b[0m\u001b[0;34m\u001b[0m\u001b[0;34m\u001b[0m\u001b[0m\n",
      "\u001b[0;31mNameError\u001b[0m: name 'np' is not defined"
     ]
    }
   ],
   "source": [
    "prediction = np.argmax(model3.predict(sample2))\n",
    "prediction = '0' + str(prediction+1)\n",
    "person_prediction = people[prediction]\n",
    "person_prediction"
   ]
  },
  {
   "cell_type": "code",
   "execution_count": 2,
   "metadata": {},
   "outputs": [
    {
     "ename": "NameError",
     "evalue": "name 'extract_feature' is not defined",
     "output_type": "error",
     "traceback": [
      "\u001b[0;31m---------------------------------------------------------------------------\u001b[0m",
      "\u001b[0;31mNameError\u001b[0m                                 Traceback (most recent call last)",
      "\u001b[0;32m<ipython-input-2-f156bd09b652>\u001b[0m in \u001b[0;36m<module>\u001b[0;34m\u001b[0m\n\u001b[1;32m      1\u001b[0m \u001b[0mtest_file4\u001b[0m \u001b[0;34m=\u001b[0m \u001b[0;34m'/Users/yashdange/Desktop/BE Project/Audio/Test Refined/Rahil0_1.wav'\u001b[0m\u001b[0;34m\u001b[0m\u001b[0;34m\u001b[0m\u001b[0m\n\u001b[0;32m----> 2\u001b[0;31m \u001b[0msample4\u001b[0m \u001b[0;34m=\u001b[0m \u001b[0mextract_feature\u001b[0m\u001b[0;34m(\u001b[0m\u001b[0mtest_file4\u001b[0m\u001b[0;34m,\u001b[0m \u001b[0mmfcc\u001b[0m\u001b[0;34m=\u001b[0m\u001b[0;32mTrue\u001b[0m\u001b[0;34m,\u001b[0m \u001b[0mchroma\u001b[0m\u001b[0;34m=\u001b[0m\u001b[0;32mTrue\u001b[0m\u001b[0;34m,\u001b[0m \u001b[0mmel\u001b[0m\u001b[0;34m=\u001b[0m\u001b[0;32mTrue\u001b[0m\u001b[0;34m)\u001b[0m\u001b[0;34m\u001b[0m\u001b[0;34m\u001b[0m\u001b[0m\n\u001b[0m\u001b[1;32m      3\u001b[0m \u001b[0msample4\u001b[0m \u001b[0;34m=\u001b[0m \u001b[0msample2\u001b[0m\u001b[0;34m.\u001b[0m\u001b[0mreshape\u001b[0m\u001b[0;34m(\u001b[0m\u001b[0;36m1\u001b[0m\u001b[0;34m,\u001b[0m\u001b[0;34m-\u001b[0m\u001b[0;36m1\u001b[0m\u001b[0;34m)\u001b[0m\u001b[0;34m\u001b[0m\u001b[0;34m\u001b[0m\u001b[0m\n\u001b[1;32m      4\u001b[0m \u001b[0;34m\u001b[0m\u001b[0m\n\u001b[1;32m      5\u001b[0m \u001b[0mtest_file5\u001b[0m \u001b[0;34m=\u001b[0m \u001b[0;34m'/Users/yashdange/Desktop/BE Project/Audio/Test Refined/Rahil0_2.wav'\u001b[0m\u001b[0;34m\u001b[0m\u001b[0;34m\u001b[0m\u001b[0m\n",
      "\u001b[0;31mNameError\u001b[0m: name 'extract_feature' is not defined"
     ]
    }
   ],
   "source": [
    "test_file4 = '/Users/yashdange/Desktop/BE Project/Audio/Test Refined/Rahil0_1.wav'\n",
    "sample4 = extract_feature(test_file4, mfcc=True, chroma=True, mel=True)\n",
    "sample4 = sample2.reshape(1,-1)\n",
    "\n",
    "test_file5 = '/Users/yashdange/Desktop/BE Project/Audio/Test Refined/Rahil0_2.wav'\n",
    "sample5 = extract_feature(test_file5, mfcc=True, chroma=True, mel=True)\n",
    "sample5 = sample3.reshape(1,-1)\n",
    "\n",
    "test_file6 = '/Users/yashdange/Desktop/BE Project/Audio/Test Refined/Rahil0_3.wav'\n",
    "sample6 = extract_feature(test_file6, mfcc=True, chroma=True, mel=True)\n",
    "sample6 = sample2.reshape(1,-1)\n",
    "\n",
    "test_file7 = '/Users/yashdange/Desktop/BE Project/Audio/Test Refined/Rahil0_4.wav'\n",
    "sample7 = extract_feature(test_file7, mfcc=True, chroma=True, mel=True)\n",
    "sample7 = sample3.reshape(1,-1)\n",
    "\n",
    "test_file8 = '/Users/yashdange/Desktop/BE Project/Audio/Test Refined/Rahil0_5.wav'\n",
    "sample8 = extract_feature(test_file8, mfcc=True, chroma=True, mel=True)\n",
    "sample8 = sample2.reshape(1,-1)\n",
    "\n",
    "test_file9 = '/Users/yashdange/Desktop/BE Project/Audio/Test Refined/srihari_0.wav'\n",
    "sample9 = extract_feature(test_file9, mfcc=True, chroma=True, mel=True)\n",
    "sample9 = sample3.reshape(1,-1)"
   ]
  },
  {
   "cell_type": "code",
   "execution_count": 53,
   "metadata": {},
   "outputs": [
    {
     "data": {
      "text/plain": [
       "array(['rahil'], dtype='<U7')"
      ]
     },
     "execution_count": 53,
     "metadata": {},
     "output_type": "execute_result"
    }
   ],
   "source": [
    "model2.predict(sample9)"
   ]
  },
  {
   "cell_type": "code",
   "execution_count": null,
   "metadata": {},
   "outputs": [],
   "source": []
  }
 ],
 "metadata": {
  "interpreter": {
   "hash": "2001fc71dd2f6a11cd669c560411e621b8fd6fd914808a1d8e92020ca489f659"
  },
  "kernelspec": {
   "display_name": "Python 3",
   "language": "python",
   "name": "python3"
  },
  "language_info": {
   "codemirror_mode": {
    "name": "ipython",
    "version": 3
   },
   "file_extension": ".py",
   "mimetype": "text/x-python",
   "name": "python",
   "nbconvert_exporter": "python",
   "pygments_lexer": "ipython3",
   "version": "3.7.9"
  }
 },
 "nbformat": 4,
 "nbformat_minor": 2
}
